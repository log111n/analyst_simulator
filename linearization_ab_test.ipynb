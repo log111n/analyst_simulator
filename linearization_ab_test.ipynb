{
 "cells": [
  {
   "cell_type": "markdown",
   "metadata": {},
   "source": [
    "Задача\n",
    "\n",
    "Проанализируйте тест между группами 0 и 3 по метрике линеаризованных лайков. Видно ли отличие? Стало ли 𝑝−𝑣𝑎𝑙𝑢𝑒 меньше?\n",
    "Проанализируйте тест между группами 1 и 2 по метрике линеаризованных лайков. Видно ли отличие? Стало ли 𝑝−𝑣𝑎𝑙𝑢𝑒 меньше?"
   ]
  },
  {
   "cell_type": "code",
   "execution_count": 1,
   "metadata": {},
   "outputs": [],
   "source": [
    "import pandahouse\n",
    "import pandas as pd\n",
    "import seaborn as sns\n",
    "from scipy import stats\n",
    "import numpy as np"
   ]
  },
  {
   "cell_type": "code",
   "execution_count": 2,
   "metadata": {},
   "outputs": [],
   "source": [
    "connection = {\n",
    "    'host': 'https://clickhouse.lab.karpov.courses',\n",
    "    'password': 'dpo_python_2020',\n",
    "    'user': 'student',\n",
    "    'database': 'simulator_20220820'\n",
    "}"
   ]
  },
  {
   "cell_type": "markdown",
   "metadata": {},
   "source": [
    "### Группы 1 и 2"
   ]
  },
  {
   "cell_type": "markdown",
   "metadata": {},
   "source": [
    "Классический t-тест для групп 1 и 2"
   ]
  },
  {
   "cell_type": "code",
   "execution_count": 3,
   "metadata": {},
   "outputs": [],
   "source": [
    "q = \"\"\"\n",
    "SELECT exp_group, \n",
    "        user_id, \n",
    "        sum(action = 'like') as likes,\n",
    "        sum(action = 'view') as views,\n",
    "        likes/views as ctr\n",
    "FROM {db}.feed_actions\n",
    "WHERE toDate(time) between '2022-07-13' and '2022-07-19' and exp_group in (1,2)\n",
    "GROUP BY exp_group, user_id       \n",
    "\"\"\"\n",
    "      \n",
    "df = pandahouse.read_clickhouse(q, connection=connection)"
   ]
  },
  {
   "cell_type": "code",
   "execution_count": 4,
   "metadata": {},
   "outputs": [
    {
     "data": {
      "text/html": [
       "<div>\n",
       "<style scoped>\n",
       "    .dataframe tbody tr th:only-of-type {\n",
       "        vertical-align: middle;\n",
       "    }\n",
       "\n",
       "    .dataframe tbody tr th {\n",
       "        vertical-align: top;\n",
       "    }\n",
       "\n",
       "    .dataframe thead th {\n",
       "        text-align: right;\n",
       "    }\n",
       "</style>\n",
       "<table border=\"1\" class=\"dataframe\">\n",
       "  <thead>\n",
       "    <tr style=\"text-align: right;\">\n",
       "      <th></th>\n",
       "      <th>exp_group</th>\n",
       "      <th>user_id</th>\n",
       "      <th>likes</th>\n",
       "      <th>views</th>\n",
       "      <th>ctr</th>\n",
       "    </tr>\n",
       "  </thead>\n",
       "  <tbody>\n",
       "    <tr>\n",
       "      <th>0</th>\n",
       "      <td>1</td>\n",
       "      <td>109963</td>\n",
       "      <td>3</td>\n",
       "      <td>15</td>\n",
       "      <td>0.200000</td>\n",
       "    </tr>\n",
       "    <tr>\n",
       "      <th>1</th>\n",
       "      <td>1</td>\n",
       "      <td>26117</td>\n",
       "      <td>32</td>\n",
       "      <td>141</td>\n",
       "      <td>0.226950</td>\n",
       "    </tr>\n",
       "    <tr>\n",
       "      <th>2</th>\n",
       "      <td>1</td>\n",
       "      <td>138232</td>\n",
       "      <td>18</td>\n",
       "      <td>73</td>\n",
       "      <td>0.246575</td>\n",
       "    </tr>\n",
       "    <tr>\n",
       "      <th>3</th>\n",
       "      <td>1</td>\n",
       "      <td>26295</td>\n",
       "      <td>33</td>\n",
       "      <td>122</td>\n",
       "      <td>0.270492</td>\n",
       "    </tr>\n",
       "    <tr>\n",
       "      <th>4</th>\n",
       "      <td>1</td>\n",
       "      <td>18392</td>\n",
       "      <td>7</td>\n",
       "      <td>32</td>\n",
       "      <td>0.218750</td>\n",
       "    </tr>\n",
       "  </tbody>\n",
       "</table>\n",
       "</div>"
      ],
      "text/plain": [
       "   exp_group  user_id  likes  views       ctr\n",
       "0          1   109963      3     15  0.200000\n",
       "1          1    26117     32    141  0.226950\n",
       "2          1   138232     18     73  0.246575\n",
       "3          1    26295     33    122  0.270492\n",
       "4          1    18392      7     32  0.218750"
      ]
     },
     "execution_count": 4,
     "metadata": {},
     "output_type": "execute_result"
    }
   ],
   "source": [
    "df.head()"
   ]
  },
  {
   "cell_type": "code",
   "execution_count": 5,
   "metadata": {},
   "outputs": [
    {
     "data": {
      "text/plain": [
       "Ttest_indResult(statistic=0.709439204127032, pvalue=0.47806231308750413)"
      ]
     },
     "execution_count": 5,
     "metadata": {},
     "output_type": "execute_result"
    }
   ],
   "source": [
    "stats.ttest_ind(df[df.exp_group == 1].ctr,\n",
    "               df[df.exp_group == 2].ctr,\n",
    "                equal_var = False # дисперсии неодинаковые\n",
    "               )"
   ]
  },
  {
   "cell_type": "markdown",
   "metadata": {},
   "source": [
    "Согласно данному тесту, недостаточно оснований отклонить нулевую гипотезу о равенстве средних ctr в группах"
   ]
  },
  {
   "cell_type": "code",
   "execution_count": 6,
   "metadata": {},
   "outputs": [],
   "source": [
    "q = \"\"\"\n",
    "SELECT user_id, exp_group, likes, views, ctr_control, likes - views * ctr_control AS linearized_likes FROM\n",
    "    (SELECT    \n",
    "        user_id, \n",
    "        exp_group,\n",
    "        sum(action = 'like') as likes,\n",
    "        sum(action = 'view') as views\n",
    "    FROM {db}.feed_actions \n",
    "    WHERE toDate(time) between '2022-07-13' and '2022-07-19' and exp_group in (1,2)\n",
    "    GROUP BY user_id, exp_group) query_in_1\n",
    "    \n",
    "    CROSS JOIN \n",
    "    \n",
    "    (SELECT  \n",
    "    sum(action = 'like') / sum(action = 'view') as ctr_control\n",
    "    FROM simulator_20220820.feed_actions\n",
    "    WHERE toDate(time) between '2022-07-13' and '2022-07-19' and exp_group == 1\n",
    "    GROUP BY exp_group) query_in_2\n",
    "\"\"\"\n",
    "\n",
    "df = pandahouse.read_clickhouse(q, connection=connection)"
   ]
  },
  {
   "cell_type": "code",
   "execution_count": 7,
   "metadata": {},
   "outputs": [
    {
     "data": {
      "text/html": [
       "<div>\n",
       "<style scoped>\n",
       "    .dataframe tbody tr th:only-of-type {\n",
       "        vertical-align: middle;\n",
       "    }\n",
       "\n",
       "    .dataframe tbody tr th {\n",
       "        vertical-align: top;\n",
       "    }\n",
       "\n",
       "    .dataframe thead th {\n",
       "        text-align: right;\n",
       "    }\n",
       "</style>\n",
       "<table border=\"1\" class=\"dataframe\">\n",
       "  <thead>\n",
       "    <tr style=\"text-align: right;\">\n",
       "      <th></th>\n",
       "      <th>user_id</th>\n",
       "      <th>exp_group</th>\n",
       "      <th>likes</th>\n",
       "      <th>views</th>\n",
       "      <th>ctr_control</th>\n",
       "      <th>linearized_likes</th>\n",
       "    </tr>\n",
       "  </thead>\n",
       "  <tbody>\n",
       "    <tr>\n",
       "      <th>0</th>\n",
       "      <td>109963</td>\n",
       "      <td>1</td>\n",
       "      <td>3</td>\n",
       "      <td>15</td>\n",
       "      <td>0.208027</td>\n",
       "      <td>-0.120402</td>\n",
       "    </tr>\n",
       "    <tr>\n",
       "      <th>1</th>\n",
       "      <td>26117</td>\n",
       "      <td>1</td>\n",
       "      <td>32</td>\n",
       "      <td>141</td>\n",
       "      <td>0.208027</td>\n",
       "      <td>2.668221</td>\n",
       "    </tr>\n",
       "    <tr>\n",
       "      <th>2</th>\n",
       "      <td>138232</td>\n",
       "      <td>1</td>\n",
       "      <td>18</td>\n",
       "      <td>73</td>\n",
       "      <td>0.208027</td>\n",
       "      <td>2.814043</td>\n",
       "    </tr>\n",
       "    <tr>\n",
       "      <th>3</th>\n",
       "      <td>26295</td>\n",
       "      <td>1</td>\n",
       "      <td>33</td>\n",
       "      <td>122</td>\n",
       "      <td>0.208027</td>\n",
       "      <td>7.620730</td>\n",
       "    </tr>\n",
       "    <tr>\n",
       "      <th>4</th>\n",
       "      <td>18392</td>\n",
       "      <td>1</td>\n",
       "      <td>7</td>\n",
       "      <td>32</td>\n",
       "      <td>0.208027</td>\n",
       "      <td>0.343142</td>\n",
       "    </tr>\n",
       "  </tbody>\n",
       "</table>\n",
       "</div>"
      ],
      "text/plain": [
       "   user_id  exp_group  likes  views  ctr_control  linearized_likes\n",
       "0   109963          1      3     15     0.208027         -0.120402\n",
       "1    26117          1     32    141     0.208027          2.668221\n",
       "2   138232          1     18     73     0.208027          2.814043\n",
       "3    26295          1     33    122     0.208027          7.620730\n",
       "4    18392          1      7     32     0.208027          0.343142"
      ]
     },
     "execution_count": 7,
     "metadata": {},
     "output_type": "execute_result"
    }
   ],
   "source": [
    "df.head()"
   ]
  },
  {
   "cell_type": "code",
   "execution_count": 8,
   "metadata": {},
   "outputs": [
    {
     "data": {
      "text/plain": [
       "Ttest_indResult(statistic=6.122579994775972, pvalue=9.439432187037712e-10)"
      ]
     },
     "execution_count": 8,
     "metadata": {},
     "output_type": "execute_result"
    }
   ],
   "source": [
    "stats.ttest_ind(df[df.exp_group == 1].linearized_likes,\n",
    "               df[df.exp_group == 2].linearized_likes,\n",
    "                equal_var = False # дисперсии неодинаковые\n",
    "               )"
   ]
  },
  {
   "cell_type": "markdown",
   "metadata": {},
   "source": [
    "Теперь t-тест показывает значимые различия между группами, p-value стал меньше 0,05, при этом в классическом тесте p-value был близок к значению 0.5."
   ]
  },
  {
   "cell_type": "markdown",
   "metadata": {},
   "source": [
    "### Группы 0 и 3"
   ]
  },
  {
   "cell_type": "code",
   "execution_count": 9,
   "metadata": {},
   "outputs": [],
   "source": [
    "q = \"\"\"\n",
    "SELECT user_id, exp_group, likes, views, ctr_control, likes - views * ctr_control AS linearized_likes FROM\n",
    "    (SELECT    \n",
    "        user_id, \n",
    "        exp_group,\n",
    "        sum(action = 'like') as likes,\n",
    "        sum(action = 'view') as views\n",
    "    FROM {db}.feed_actions \n",
    "    WHERE toDate(time) between '2022-07-13' and '2022-07-19' and exp_group in (0,3)\n",
    "    GROUP BY user_id, exp_group) query_in_1\n",
    "    \n",
    "    CROSS JOIN \n",
    "    \n",
    "    (SELECT  \n",
    "    sum(action = 'like') / sum(action = 'view') as ctr_control\n",
    "    FROM {db}.feed_actions\n",
    "    WHERE toDate(time) between '2022-07-13' and '2022-07-19' and exp_group == 0\n",
    "    GROUP BY exp_group) query_in_2\n",
    "\"\"\"\n",
    "\n",
    "df = pandahouse.read_clickhouse(q, connection=connection)"
   ]
  },
  {
   "cell_type": "code",
   "execution_count": 10,
   "metadata": {},
   "outputs": [
    {
     "data": {
      "text/html": [
       "<div>\n",
       "<style scoped>\n",
       "    .dataframe tbody tr th:only-of-type {\n",
       "        vertical-align: middle;\n",
       "    }\n",
       "\n",
       "    .dataframe tbody tr th {\n",
       "        vertical-align: top;\n",
       "    }\n",
       "\n",
       "    .dataframe thead th {\n",
       "        text-align: right;\n",
       "    }\n",
       "</style>\n",
       "<table border=\"1\" class=\"dataframe\">\n",
       "  <thead>\n",
       "    <tr style=\"text-align: right;\">\n",
       "      <th></th>\n",
       "      <th>user_id</th>\n",
       "      <th>exp_group</th>\n",
       "      <th>likes</th>\n",
       "      <th>views</th>\n",
       "      <th>ctr_control</th>\n",
       "      <th>linearized_likes</th>\n",
       "    </tr>\n",
       "  </thead>\n",
       "  <tbody>\n",
       "    <tr>\n",
       "      <th>0</th>\n",
       "      <td>115383</td>\n",
       "      <td>3</td>\n",
       "      <td>9</td>\n",
       "      <td>30</td>\n",
       "      <td>0.208236</td>\n",
       "      <td>2.752916</td>\n",
       "    </tr>\n",
       "    <tr>\n",
       "      <th>1</th>\n",
       "      <td>123580</td>\n",
       "      <td>3</td>\n",
       "      <td>13</td>\n",
       "      <td>48</td>\n",
       "      <td>0.208236</td>\n",
       "      <td>3.004666</td>\n",
       "    </tr>\n",
       "    <tr>\n",
       "      <th>2</th>\n",
       "      <td>4944</td>\n",
       "      <td>0</td>\n",
       "      <td>8</td>\n",
       "      <td>41</td>\n",
       "      <td>0.208236</td>\n",
       "      <td>-0.537681</td>\n",
       "    </tr>\n",
       "    <tr>\n",
       "      <th>3</th>\n",
       "      <td>4504</td>\n",
       "      <td>0</td>\n",
       "      <td>5</td>\n",
       "      <td>15</td>\n",
       "      <td>0.208236</td>\n",
       "      <td>1.876458</td>\n",
       "    </tr>\n",
       "    <tr>\n",
       "      <th>4</th>\n",
       "      <td>121508</td>\n",
       "      <td>0</td>\n",
       "      <td>18</td>\n",
       "      <td>88</td>\n",
       "      <td>0.208236</td>\n",
       "      <td>-0.324779</td>\n",
       "    </tr>\n",
       "  </tbody>\n",
       "</table>\n",
       "</div>"
      ],
      "text/plain": [
       "   user_id  exp_group  likes  views  ctr_control  linearized_likes\n",
       "0   115383          3      9     30     0.208236          2.752916\n",
       "1   123580          3     13     48     0.208236          3.004666\n",
       "2     4944          0      8     41     0.208236         -0.537681\n",
       "3     4504          0      5     15     0.208236          1.876458\n",
       "4   121508          0     18     88     0.208236         -0.324779"
      ]
     },
     "execution_count": 10,
     "metadata": {},
     "output_type": "execute_result"
    }
   ],
   "source": [
    "df.head()"
   ]
  },
  {
   "cell_type": "code",
   "execution_count": 11,
   "metadata": {},
   "outputs": [
    {
     "data": {
      "text/plain": [
       "Ttest_indResult(statistic=-15.214995460903827, pvalue=5.4914249479690016e-52)"
      ]
     },
     "execution_count": 11,
     "metadata": {},
     "output_type": "execute_result"
    }
   ],
   "source": [
    "stats.ttest_ind(df[df.exp_group == 0].linearized_likes,\n",
    "               df[df.exp_group == 3].linearized_likes,\n",
    "                equal_var = False # дисперсии неодинаковые\n",
    "               )"
   ]
  },
  {
   "cell_type": "markdown",
   "metadata": {},
   "source": [
    "В случае классического t-теста на метрике ctr был получен результат pvalue=5.4914249479690016e-52 > pvalue(linearized_likes). Чувствительность теста повысилась."
   ]
  },
  {
   "cell_type": "code",
   "execution_count": null,
   "metadata": {},
   "outputs": [],
   "source": []
  }
 ],
 "metadata": {
  "kernelspec": {
   "display_name": "Python 3",
   "language": "python",
   "name": "python3"
  },
  "language_info": {
   "codemirror_mode": {
    "name": "ipython",
    "version": 3
   },
   "file_extension": ".py",
   "mimetype": "text/x-python",
   "name": "python",
   "nbconvert_exporter": "python",
   "pygments_lexer": "ipython3",
   "version": "3.7.3"
  }
 },
 "nbformat": 4,
 "nbformat_minor": 4
}
